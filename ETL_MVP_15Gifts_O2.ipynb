{
 "cells": [
  {
   "attachments": {},
   "cell_type": "markdown",
   "metadata": {},
   "source": [
    "## ETL_MVP_15Gifts_O2 \n",
    "\n",
    "(File 1 of 2. Main Processing file)"
   ]
  },
  {
   "cell_type": "code",
   "execution_count": 86,
   "metadata": {},
   "outputs": [],
   "source": [
    "#\n",
    "# # Ensure we have the needed (third-party) packages installed\n",
    "# \n",
    "# %pip install --quiet requests\n",
    "# %pip install --quiet beautifulsoup4\n",
    "# %pip install --quiet pandas\n",
    "# %pip install --quiet seaborn\n",
    "# %pip install --quiet matplotlib\n",
    "# %pip install --quiet tabulate\n",
    "# %pip install --quiet selenium"
   ]
  },
  {
   "cell_type": "code",
   "execution_count": 87,
   "metadata": {},
   "outputs": [
    {
     "name": "stdout",
     "output_type": "stream",
     "text": [
      "****************************** ETL functions def file version v0.1.1 ******************************\n",
      "\n"
     ]
    }
   ],
   "source": [
    "#\n",
    "# # Access my ETL functions\n",
    "# \n",
    "%run ETL_func_defs.ipynb"
   ]
  },
  {
   "cell_type": "code",
   "execution_count": 88,
   "metadata": {},
   "outputs": [],
   "source": [
    "#\n",
    "# # Core user-defined variables\n",
    "# \n",
    "\n",
    "# Might increase potential for cross-client re-use and (some)page changes\n",
    "urlBase = \"https://www.o2.co.uk\"\n",
    "urlSub = \"/shop/phones#sort=content.sorting.featured&page=\" # page=1+ added later\n",
    "\n",
    "# client_colour = '#000068' # could used to identify in reporting (this one for O2)\n",
    "\n",
    "# Define selectors for the scrape \n",
    "main_content_selector = \".device-tile-wrapper\" # .device-info-content\n",
    "brand_selector = '[data-qa-device-title] [data-qa-device-brand]'\n",
    "model_family_selector = '[data-qa-device-title] [data-qa-device-modelfamily]'\n",
    "star_rating_selector = \".star-rating__stars\"\n",
    "rating_value_selector = \".device-rating__text [itemprop='ratingValue']\"\n",
    "upfront_price_selector = '.upfront-cost-details .headline'\n",
    "upfront_pence_selector = '.upfront-cost-details .pence'\n",
    "monthly_price_selector = '.monthly-cost-details .costVal'\n",
    "monthly_pence_selector = '.monthly-cost-details .costPence'\n",
    "\n",
    "num_pages = 7 # page search depth (Reduce if testing process)\n"
   ]
  },
  {
   "cell_type": "code",
   "execution_count": 89,
   "metadata": {},
   "outputs": [
    {
     "name": "stdout",
     "output_type": "stream",
     "text": [
      "https://www.o2.co.uk is up and available (response time: 0.14 seconds)\n",
      "https://www.o2.co.uk/shop/phones#sort=content.sorting.featured&page= is up and available (response time: 0.05 seconds)\n"
     ]
    }
   ],
   "source": [
    "#\n",
    "# # IS the site up? No point running anything further if not! \n",
    "#\n",
    "response_time = check_site_status(urlBase, max_response_time=4)\n",
    "if response_time:\n",
    "    print('{} is up and available (response time: {:.2f} seconds)'.format(urlBase, response_time))\n",
    "    \n",
    "    # run it again for the page(site could be up, but page missing? )\n",
    "    response_time = check_site_status(urlBase+urlSub)\n",
    "    print('{} is up and available (response time: {:.2f} seconds)'.format(urlBase+urlSub, response_time))\n",
    "else:\n",
    "    # Stop any further code below processing\n",
    "    sys.exit()"
   ]
  },
  {
   "cell_type": "code",
   "execution_count": 90,
   "metadata": {},
   "outputs": [],
   "source": [
    "#\n",
    "# # Extract the page data\n",
    "#\n",
    "\n",
    "phone_details_list = extract_phone_details(\n",
    "    urlBase+urlSub,\n",
    "    main_content_selector,\n",
    "    brand_selector,\n",
    "    model_family_selector,\n",
    "    star_rating_selector,\n",
    "    rating_value_selector,\n",
    "    num_pages,\n",
    "    upfront_price_selector,\n",
    "    upfront_pence_selector,\n",
    "    monthly_price_selector,\n",
    "    monthly_pence_selector\n",
    ")\n",
    "\n",
    "\n",
    "\n",
    "# Visual checks/ref\n",
    "# Print the extracted phone data details\n",
    "x = 5  # Limit just to keep the output cleaner in notebook\n",
    "for phone_details in itertools.islice(phone_details_list, x):\n",
    "    print(phone_details)"
   ]
  },
  {
   "cell_type": "code",
   "execution_count": null,
   "metadata": {},
   "outputs": [],
   "source": [
    "#\n",
    "# # (1)Pipeline reporting - Identify outliers\n",
    "#\n",
    "\n",
    "# Is there anything that we don't expect/want to see in data coming through pipeline?\n",
    "\n",
    "# Set some (example) default expectations\n",
    "max_rating_value=5\n",
    "min_rating_value=2\n",
    "max_model_family_length=21\n",
    "\n",
    "outlier_phone_details = identify_outliers(  phone_details_list, \n",
    "                                            max_rating_value, \n",
    "                                            min_rating_value, \n",
    "                                            max_model_family_length \n",
    "                                            )\n",
    "\n",
    "\n",
    "# Are the prices within a logical range(sample/example values selected)\n",
    "pound_val_keys = ['Monthly Price', 'Upfront Price' ]\n",
    "pence_val_keys = ['Monthly Pence','Upfront Pence']\n",
    "\n",
    "outlier_price_details = identify_price_outliers(phone_details_list, pound_val_keys, pence_val_keys)\n",
    "\n",
    "# output of outliers handled/shown later"
   ]
  },
  {
   "cell_type": "code",
   "execution_count": null,
   "metadata": {},
   "outputs": [],
   "source": [
    "# #\n",
    "# # # (2)Pipeline reporting - Monitor/optimise process\n",
    "# #\n",
    "# import timeit # specific to this, so not in function defs\n",
    "\n",
    "# avg_time = measure_extract_phone_details_time(\n",
    "#     urlBase,\n",
    "#     urlSub,\n",
    "#     main_content_selector,\n",
    "#     brand_selector,\n",
    "#     model_family_selector,\n",
    "#     star_rating_selector,\n",
    "#     rating_value_selector,\n",
    "#     num_pages,\n",
    "#     upfront_price_selector,\n",
    "#     upfront_pence_selector,\n",
    "#     monthly_price_selector,\n",
    "#     monthly_pence_selector\n",
    "# )\n",
    "\n",
    "# print('Average execution time: {:.2f} seconds'.format(avg_time))"
   ]
  },
  {
   "cell_type": "code",
   "execution_count": null,
   "metadata": {},
   "outputs": [],
   "source": [
    "#\n",
    "# # Cleaning\n",
    "#\n",
    "\n",
    "# Visual checks/ref\n",
    "# Print the extracted phone data details\n",
    "x = 3  # Just to keep the output cleaner in notebook\n",
    "for phone_details in itertools.islice(phone_details_list, x):\n",
    "    print(phone_details)\n",
    "\n",
    "\n",
    "\n",
    "# check/remove unexpected chars/ obv typos\n",
    "unwanted_chars = ['%', '?', '%', '$', \"'\", '#', ';', ',','-', '*']\n",
    "phone_details_list = remove_dodgy_chars(phone_details_list, unwanted_chars)\n",
    "\n",
    "# remove lead/trailing spaces (and doubles+)\n",
    "phone_details_list = clean_spacing_phone_details(phone_details_list)\n",
    "\n",
    "# flatten phone_details_list strings to enforce consistency\n",
    "phone_details_list = lowercase_phone_details(phone_details_list)\n",
    "\n",
    "# (re-)enforce proper/title caps (but also handle hyphens and 's properly)\n",
    "phone_details_list = capitalise_phone_details(phone_details_list)\n",
    "\n",
    "# remove dirty vals in currency fields, ensure floats\n",
    "currency_keys_list = ['Upfront Price','Upfront Pence', 'Monthly Price', 'Monthly Pence']\n",
    "phone_details_list = clean_pricing(phone_details_list, currency_keys_list)\n",
    "\n",
    "\n",
    "# Remove dups (has to be done LAST, as above cleaning increases chances of matches)\n",
    "de_dup_keys_list = ['Brand', 'Model Family']\n",
    "phone_details_list = remove_duplicates(phone_details_list, de_dup_keys_list)\n",
    "\n",
    "\n",
    "\n",
    "\n",
    "# Visual checks/ref\n",
    "# Print the extracted phone data details\n",
    "x = 3  # Just to keep the output cleaner in notebook\n",
    "for phone_details in itertools.islice(phone_details_list, x):\n",
    "    print(phone_details)"
   ]
  },
  {
   "cell_type": "code",
   "execution_count": null,
   "metadata": {},
   "outputs": [],
   "source": [
    "#\n",
    "# # Ensure consistency\n",
    "#\n",
    "\n",
    "# Set required fields to numeric values & make more customer friendly (rounding/set places)\n",
    "phone_details_list = convert_to_float(phone_details_list, 'Rating Value', 2)\n"
   ]
  },
  {
   "cell_type": "code",
   "execution_count": null,
   "metadata": {},
   "outputs": [],
   "source": [
    "#\n",
    "# # Enrichment / manipulation\n",
    "#\n",
    "\n",
    "#\n",
    "# # Combine the cleaned price/pence values into single 'useful' val.\n",
    "data_to_combine = ['Monthly Price', 'Monthly Pence']\n",
    "new_total_key = 'Monthly Total Price'\n",
    "phone_details_list = combine_currency_values(phone_details_list, data_to_combine, new_total_key)\n",
    "\n",
    "\n",
    "data_to_combine = ['Upfront Price', 'Upfront Pence']\n",
    "new_total_key = 'Upfront Total Price'\n",
    "phone_details_list = combine_currency_values(phone_details_list, data_to_combine, new_total_key)\n",
    "\n",
    "\n",
    "# Visual checks/ref\n",
    "# Print the extracted phone data details\n",
    "x = 3  # Just to keep the output cleaner in notebook\n",
    "for phone_details in itertools.islice(phone_details_list, x):\n",
    "    print(phone_details)"
   ]
  },
  {
   "cell_type": "code",
   "execution_count": null,
   "metadata": {},
   "outputs": [],
   "source": [
    "#\n",
    "# # (1)Represent extracted data in flat file for onward/persistent ref.\n",
    "#\n",
    "\n",
    "# Extracted data\n",
    "save_data_to_file('phone_details', phone_details_list) # main data dump file\n",
    "\n",
    "\n",
    "# Extracted outlier data\n",
    "outliers_combined_list = outlier_phone_details + outlier_price_details\n",
    "if outliers_combined_list:\n",
    "    # No point outputting an empty file \n",
    "    save_data_to_file('outlier_details', outliers_combined_list) # save potential anomalies separately for review"
   ]
  },
  {
   "cell_type": "code",
   "execution_count": null,
   "metadata": {},
   "outputs": [],
   "source": [
    "#\n",
    "# # (2)Represent data - Visualise some of caught/potential 'outliers'(hypothetical threshold examples)\n",
    "#\n",
    "\n",
    "\n",
    "max_records = 10 # Just to keep the output cleaner in notebook\n",
    "table_data = tabulate(outliers_combined_list[:max_records], headers='keys', tablefmt='psql')\n",
    "\n",
    "if len(table_data) > 0:\n",
    "    # would add in other elements to print output / simplified here for clarity\n",
    "    print(\"Potential (example)threshold/unexpected data found:\\n -> Max Rating >{}\\n -> Model Family Description >{}\"\n",
    "            .format(max_rating_value, max_model_family_length))\n",
    "    print(table_data)"
   ]
  },
  {
   "cell_type": "code",
   "execution_count": null,
   "metadata": {},
   "outputs": [],
   "source": [
    "#\n",
    "# # (3)Represent data - start to consider/show simple stories within the data\n",
    "#\n",
    "\n",
    "visualise_average_rating_by_brand(phone_details_list)\n",
    "\n",
    "\n",
    "visualise_upfront_prices(phone_details_list, 'Upfront Total Price')\n",
    "\n",
    "visualise_upfront_prices(phone_details_list, 'Monthly Total Price')"
   ]
  },
  {
   "cell_type": "code",
   "execution_count": null,
   "metadata": {},
   "outputs": [],
   "source": [
    "#\n",
    "# # Hypothetical db store + extract (here done only in memory as db not portable)\n",
    "#\n",
    "\n",
    "# Create a database connection\n",
    "conn = sqlite3.connect(\":memory:\")\n",
    "\n",
    "# Call the create_phone_details_table() function to create the phone_details table\n",
    "create_phone_details_table(conn)\n",
    "\n",
    "# Call the insert_phone_details() function to insert the extracted phone details into the phone_details table\n",
    "insert_phone_details(conn, phone_details_list)\n",
    "\n",
    "\n",
    "\n",
    "# Execute a SELECT query on the phone_details table\n",
    "c = conn.cursor()\n",
    "c.execute(\"SELECT brand, model_family, rating_value, upfront_total_price, monthly_total_price FROM phone_details LIMIT 5\")\n",
    "\n",
    "# Fetch the results of the query and print them out\n",
    "results = c.fetchall()\n",
    "for row in results:\n",
    "    print(row)\n",
    "\n",
    "# Close the database connection\n",
    "conn.close()"
   ]
  }
 ],
 "metadata": {
  "kernelspec": {
   "display_name": "Python 3",
   "language": "python",
   "name": "python3"
  },
  "language_info": {
   "codemirror_mode": {
    "name": "ipython",
    "version": 3
   },
   "file_extension": ".py",
   "mimetype": "text/x-python",
   "name": "python",
   "nbconvert_exporter": "python",
   "pygments_lexer": "ipython3",
   "version": "3.10.3"
  },
  "orig_nbformat": 4,
  "vscode": {
   "interpreter": {
    "hash": "958b822a08aa10494414effc94d6d73addd1ee144d4b81869d635db9a3920043"
   }
  }
 },
 "nbformat": 4,
 "nbformat_minor": 2
}
