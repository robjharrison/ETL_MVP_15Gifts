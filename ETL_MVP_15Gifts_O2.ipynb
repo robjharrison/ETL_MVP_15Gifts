{
 "cells": [
  {
   "cell_type": "code",
   "execution_count": 44,
   "metadata": {},
   "outputs": [
    {
     "name": "stdout",
     "output_type": "stream",
     "text": [
      "Note: you may need to restart the kernel to use updated packages.\n"
     ]
    },
    {
     "name": "stderr",
     "output_type": "stream",
     "text": [
      "WARNING: You are using pip version 22.0.4; however, version 23.0.1 is available.\n",
      "You should consider upgrading via the 'c:\\Users\\Rob.Harrison\\AppData\\Local\\Programs\\Python\\Python310\\python.exe -m pip install --upgrade pip' command.\n"
     ]
    },
    {
     "name": "stdout",
     "output_type": "stream",
     "text": [
      "Note: you may need to restart the kernel to use updated packages.\n"
     ]
    },
    {
     "name": "stderr",
     "output_type": "stream",
     "text": [
      "WARNING: You are using pip version 22.0.4; however, version 23.0.1 is available.\n",
      "You should consider upgrading via the 'c:\\Users\\Rob.Harrison\\AppData\\Local\\Programs\\Python\\Python310\\python.exe -m pip install --upgrade pip' command.\n"
     ]
    },
    {
     "name": "stdout",
     "output_type": "stream",
     "text": [
      "Note: you may need to restart the kernel to use updated packages.\n"
     ]
    },
    {
     "name": "stderr",
     "output_type": "stream",
     "text": [
      "WARNING: You are using pip version 22.0.4; however, version 23.0.1 is available.\n",
      "You should consider upgrading via the 'c:\\Users\\Rob.Harrison\\AppData\\Local\\Programs\\Python\\Python310\\python.exe -m pip install --upgrade pip' command.\n"
     ]
    }
   ],
   "source": [
    "#\n",
    "# # Ensure we have the needed libraries installed\n",
    "# \n",
    "%pip install --quiet requests\n",
    "%pip install --quiet beautifulsoup4\n",
    "%pip install --quiet nbformat"
   ]
  },
  {
   "cell_type": "code",
   "execution_count": 45,
   "metadata": {},
   "outputs": [
    {
     "name": "stdout",
     "output_type": "stream",
     "text": [
      "****************************** ETL functions def file version v0.0.1 ******************************\n",
      "\n"
     ]
    }
   ],
   "source": [
    "#\n",
    "# # Access the ETL function 'library'\n",
    "# \n",
    "%run ETL_func_defs.ipynb"
   ]
  },
  {
   "cell_type": "code",
   "execution_count": 46,
   "metadata": {},
   "outputs": [],
   "source": [
    "#\n",
    "# Core user-defined variables\n",
    "#\n",
    "\n",
    "urlBase = \"https://www.o2.co.uk/shop/phones\"\n",
    "urlSub = \"#sort=content.sorting.featured&page=\"\n",
    "\n",
    "main_content_selector = \".device-tile-wrapper\" # .device-info-content\n",
    "brand_selector = '[data-qa-device-title] [data-qa-device-brand]'\n",
    "model_family_selector = '[data-qa-device-title] [data-qa-device-modelfamily]'\n",
    "star_rating_selector = \".star-rating__stars\"\n",
    "rating_value_selector = \".device-rating__text [itemprop='ratingValue']\"\n",
    "num_pages = 3\n",
    "upfront_price_selector = '.upfront-cost-details .headline'\n",
    "upfront_pence_selector = '.upfront-cost-details .pence'\n",
    "monthly_price_selector = '.monthly-cost-details .costVal'\n",
    "monthly_pence_selector = '.monthly-cost-details .costPence'\n"
   ]
  },
  {
   "cell_type": "code",
   "execution_count": 47,
   "metadata": {},
   "outputs": [
    {
     "name": "stdout",
     "output_type": "stream",
     "text": [
      "{'Brand': 'Samsung', 'Model Family': 'Galaxy S23 Ultra', 'Star Rating': None, 'Rating Value': '4.4', 'Upfront Price': '£30.00*', 'Upfront Pence': '.00*', 'Monthly Price': '£64', 'Monthly Pence': '.86*'}\n",
      "{'Brand': 'Samsung', 'Model Family': 'Galaxy S23', 'Star Rating': None, 'Rating Value': '5', 'Upfront Price': '£30.00*', 'Upfront Pence': '.00*', 'Monthly Price': '£53', 'Monthly Pence': '.74*'}\n",
      "{'Brand': 'Samsung', 'Model Family': 'Galaxy S23 Plus', 'Star Rating': None, 'Rating Value': '5', 'Upfront Price': '£30.00*', 'Upfront Pence': '.00*', 'Monthly Price': '£59', 'Monthly Pence': '.30*'}\n",
      "{'Brand': 'Apple', 'Model Family': 'iPhone 14', 'Star Rating': None, 'Rating Value': '4.3538', 'Upfront Price': '£30.00*', 'Upfront Pence': '.00*', 'Monthly Price': '£46', 'Monthly Pence': '.73*'}\n",
      "{'Brand': 'Apple', 'Model Family': 'iPhone 14 Pro', 'Star Rating': None, 'Rating Value': '4.5893', 'Upfront Price': '£30.00*', 'Upfront Pence': '.00*', 'Monthly Price': '£47', 'Monthly Pence': '.99*'}\n"
     ]
    }
   ],
   "source": [
    "#\n",
    "# # Extract the page data\n",
    "#\n",
    "\n",
    "phone_details_list = extract_phone_details(\n",
    "    urlBase+urlSub,\n",
    "    main_content_selector,\n",
    "    brand_selector,\n",
    "    model_family_selector,\n",
    "    star_rating_selector,\n",
    "    rating_value_selector,\n",
    "    num_pages,\n",
    "    upfront_price_selector,\n",
    "    upfront_pence_selector,\n",
    "    monthly_price_selector,\n",
    "    monthly_pence_selector\n",
    ")\n",
    "\n",
    "\n",
    "\n",
    "# Visual checks/ref\n",
    "# Print the extracted phone data details\n",
    "x = 5  # Just to keep the output cleaner in notebook\n",
    "for phone_details in itertools.islice(phone_details_list, x):\n",
    "    print(phone_details)"
   ]
  },
  {
   "cell_type": "code",
   "execution_count": 51,
   "metadata": {},
   "outputs": [
    {
     "name": "stdout",
     "output_type": "stream",
     "text": [
      "{'Brand': 'Samsung', 'Model Family': 'Galaxy S23 Ultra', 'Star Rating': None, 'Rating Value': '4.4', 'Upfront Price': 30.0, 'Upfront Pence': 0.0, 'Monthly Price': 64.0, 'Monthly Pence': 0.86}\n",
      "{'Brand': 'Samsung', 'Model Family': 'Galaxy S23', 'Star Rating': None, 'Rating Value': '5', 'Upfront Price': 30.0, 'Upfront Pence': 0.0, 'Monthly Price': 53.0, 'Monthly Pence': 0.74}\n",
      "{'Brand': 'Samsung', 'Model Family': 'Galaxy S23 Plus', 'Star Rating': None, 'Rating Value': '5', 'Upfront Price': 30.0, 'Upfront Pence': 0.0, 'Monthly Price': 59.0, 'Monthly Pence': 0.3}\n",
      "{'Brand': 'Apple', 'Model Family': 'iPhone 14', 'Star Rating': None, 'Rating Value': '4.3538', 'Upfront Price': 30.0, 'Upfront Pence': 0.0, 'Monthly Price': 46.0, 'Monthly Pence': 0.73}\n",
      "{'Brand': 'Apple', 'Model Family': 'iPhone 14 Pro', 'Star Rating': None, 'Rating Value': '4.5893', 'Upfront Price': 30.0, 'Upfront Pence': 0.0, 'Monthly Price': 47.0, 'Monthly Pence': 0.99}\n"
     ]
    }
   ],
   "source": [
    "currency_keys_list = ['Upfront Price','Upfront Pence', 'Monthly Price', 'Monthly Pence']\n",
    "phone_details_list = clean_phone_details_list(phone_details_list, currency_keys_list)\n",
    "\n",
    "\n",
    "# Visual checks/ref\n",
    "# Print the extracted phone data details\n",
    "x = 5  # Just to keep the output cleaner in notebook\n",
    "for phone_details in itertools.islice(phone_details_list, x):\n",
    "    print(phone_details)"
   ]
  },
  {
   "cell_type": "code",
   "execution_count": 48,
   "metadata": {},
   "outputs": [],
   "source": [
    "#\n",
    "# # (1)Pipeline reporting - Identify outliers\n",
    "#\n",
    "\n",
    "# set of chars we don't expect/want to see in data coming through pipeline\n",
    "max_rating_value=5\n",
    "max_model_family_length=21\n",
    "\n",
    "outlier_phone_details = identify_outliers(  phone_details_list, \n",
    "                                            max_rating_value=5, \n",
    "                                            min_rating_value=2, \n",
    "                                            max_model_family_length=50, \n",
    "                    \n",
    "                                            )\n",
    "\n",
    "# output of outliers handled/shown later"
   ]
  },
  {
   "cell_type": "code",
   "execution_count": 49,
   "metadata": {},
   "outputs": [
    {
     "ename": "TypeError",
     "evalue": "extract_phone_details() missing 4 required positional arguments: 'upf_price', 'upf_pence', 'mth_price', and 'mth_pence'",
     "output_type": "error",
     "traceback": [
      "\u001b[1;31m---------------------------------------------------------------------------\u001b[0m",
      "\u001b[1;31mTypeError\u001b[0m                                 Traceback (most recent call last)",
      "Cell \u001b[1;32mIn [49], line 7\u001b[0m\n\u001b[0;32m      4\u001b[0m \u001b[39mimport\u001b[39;00m \u001b[39mtimeit\u001b[39;00m \u001b[39m# specific to this, so not in function defs\u001b[39;00m\n\u001b[0;32m      6\u001b[0m \u001b[39m# measure the scrape/func execution time\u001b[39;00m\n\u001b[1;32m----> 7\u001b[0m times \u001b[39m=\u001b[39m timeit\u001b[39m.\u001b[39mrepeat(time_extract_phone_details, number\u001b[39m=\u001b[39m\u001b[39m1\u001b[39m, repeat\u001b[39m=\u001b[39m\u001b[39m10\u001b[39m)\n\u001b[0;32m      9\u001b[0m \u001b[39m# calculate the avg time taken\u001b[39;00m\n\u001b[0;32m     10\u001b[0m avg_time \u001b[39m=\u001b[39m \u001b[39msum\u001b[39m(times) \u001b[39m/\u001b[39m \u001b[39mlen\u001b[39m(times)\n",
      "File \u001b[1;32mc:\\Users\\Rob.Harrison\\AppData\\Local\\Programs\\Python\\Python310\\lib\\timeit.py:239\u001b[0m, in \u001b[0;36mrepeat\u001b[1;34m(stmt, setup, timer, repeat, number, globals)\u001b[0m\n\u001b[0;32m    236\u001b[0m \u001b[39mdef\u001b[39;00m \u001b[39mrepeat\u001b[39m(stmt\u001b[39m=\u001b[39m\u001b[39m\"\u001b[39m\u001b[39mpass\u001b[39m\u001b[39m\"\u001b[39m, setup\u001b[39m=\u001b[39m\u001b[39m\"\u001b[39m\u001b[39mpass\u001b[39m\u001b[39m\"\u001b[39m, timer\u001b[39m=\u001b[39mdefault_timer,\n\u001b[0;32m    237\u001b[0m            repeat\u001b[39m=\u001b[39mdefault_repeat, number\u001b[39m=\u001b[39mdefault_number, \u001b[39mglobals\u001b[39m\u001b[39m=\u001b[39m\u001b[39mNone\u001b[39;00m):\n\u001b[0;32m    238\u001b[0m     \u001b[39m\"\"\"Convenience function to create Timer object and call repeat method.\"\"\"\u001b[39;00m\n\u001b[1;32m--> 239\u001b[0m     \u001b[39mreturn\u001b[39;00m Timer(stmt, setup, timer, \u001b[39mglobals\u001b[39;49m)\u001b[39m.\u001b[39;49mrepeat(repeat, number)\n",
      "File \u001b[1;32mc:\\Users\\Rob.Harrison\\AppData\\Local\\Programs\\Python\\Python310\\lib\\timeit.py:206\u001b[0m, in \u001b[0;36mTimer.repeat\u001b[1;34m(self, repeat, number)\u001b[0m\n\u001b[0;32m    204\u001b[0m r \u001b[39m=\u001b[39m []\n\u001b[0;32m    205\u001b[0m \u001b[39mfor\u001b[39;00m i \u001b[39min\u001b[39;00m \u001b[39mrange\u001b[39m(repeat):\n\u001b[1;32m--> 206\u001b[0m     t \u001b[39m=\u001b[39m \u001b[39mself\u001b[39;49m\u001b[39m.\u001b[39;49mtimeit(number)\n\u001b[0;32m    207\u001b[0m     r\u001b[39m.\u001b[39mappend(t)\n\u001b[0;32m    208\u001b[0m \u001b[39mreturn\u001b[39;00m r\n",
      "File \u001b[1;32mc:\\Users\\Rob.Harrison\\AppData\\Local\\Programs\\Python\\Python310\\lib\\timeit.py:178\u001b[0m, in \u001b[0;36mTimer.timeit\u001b[1;34m(self, number)\u001b[0m\n\u001b[0;32m    176\u001b[0m gc\u001b[39m.\u001b[39mdisable()\n\u001b[0;32m    177\u001b[0m \u001b[39mtry\u001b[39;00m:\n\u001b[1;32m--> 178\u001b[0m     timing \u001b[39m=\u001b[39m \u001b[39mself\u001b[39;49m\u001b[39m.\u001b[39;49minner(it, \u001b[39mself\u001b[39;49m\u001b[39m.\u001b[39;49mtimer)\n\u001b[0;32m    179\u001b[0m \u001b[39mfinally\u001b[39;00m:\n\u001b[0;32m    180\u001b[0m     \u001b[39mif\u001b[39;00m gcold:\n",
      "File \u001b[1;32m<timeit-src>:6\u001b[0m, in \u001b[0;36minner\u001b[1;34m(_it, _timer, _stmt)\u001b[0m\n",
      "File \u001b[1;32m~\\AppData\\Local\\Temp\\ipykernel_8076\\2484942117.py:44\u001b[0m, in \u001b[0;36mtime_extract_phone_details\u001b[1;34m()\u001b[0m\n\u001b[0;32m     41\u001b[0m rating_value_selector \u001b[39m=\u001b[39m \u001b[39m\"\u001b[39m\u001b[39m.device-rating__text [itemprop=\u001b[39m\u001b[39m'\u001b[39m\u001b[39mratingValue\u001b[39m\u001b[39m'\u001b[39m\u001b[39m]\u001b[39m\u001b[39m\"\u001b[39m\n\u001b[0;32m     42\u001b[0m num_pages \u001b[39m=\u001b[39m \u001b[39m3\u001b[39m\n\u001b[1;32m---> 44\u001b[0m \u001b[39mreturn\u001b[39;00m extract_phone_details(\n\u001b[0;32m     45\u001b[0m     urlBase\u001b[39m+\u001b[39;49murlSub,\n\u001b[0;32m     46\u001b[0m     main_content_selector,\n\u001b[0;32m     47\u001b[0m     brand_selector,\n\u001b[0;32m     48\u001b[0m     model_family_selector,\n\u001b[0;32m     49\u001b[0m     star_rating_selector,\n\u001b[0;32m     50\u001b[0m     rating_value_selector,\n\u001b[0;32m     51\u001b[0m     num_pages\n\u001b[0;32m     52\u001b[0m )\n",
      "\u001b[1;31mTypeError\u001b[0m: extract_phone_details() missing 4 required positional arguments: 'upf_price', 'upf_pence', 'mth_price', and 'mth_pence'"
     ]
    }
   ],
   "source": [
    "#\n",
    "# # (2)Pipeline reporting - Monitor/optimise process\n",
    "#\n",
    "import timeit # specific to this, so not in function defs\n",
    "\n",
    "# measure the scrape/func execution time\n",
    "times = timeit.repeat(time_extract_phone_details, number=1, repeat=10)\n",
    "\n",
    "# calculate the avg time taken\n",
    "avg_time = sum(times) / len(times)\n",
    "print(f\"Average execution time: {avg_time:.4f} seconds\")"
   ]
  },
  {
   "cell_type": "code",
   "execution_count": null,
   "metadata": {},
   "outputs": [
    {
     "name": "stdout",
     "output_type": "stream",
     "text": [
      "{'Brand': 'Samsung', 'Model Family': 'Galaxy S23 Ultra', 'Star Rating': None, 'Rating Value': '4.4'}\n",
      "{'Brand': 'Samsung', 'Model Family': 'Galaxy S23', 'Star Rating': None, 'Rating Value': '5'}\n",
      "{'Brand': 'Samsung', 'Model Family': 'Galaxy S23 Plus', 'Star Rating': None, 'Rating Value': '5'}\n",
      "{'Brand': 'Apple', 'Model Family': 'iPhone 14', 'Star Rating': None, 'Rating Value': '4.3538'}\n",
      "{'Brand': 'Apple', 'Model Family': 'iPhone 14 Pro', 'Star Rating': None, 'Rating Value': '4.5893'}\n",
      "{'Brand': 'Samsung', 'Model Family': 'Galaxy S23 Ultra', 'Star Rating': None, 'Rating Value': '4.4'}\n",
      "{'Brand': 'Samsung', 'Model Family': 'Galaxy S23', 'Star Rating': None, 'Rating Value': '5'}\n",
      "{'Brand': 'Samsung', 'Model Family': 'Galaxy S23 Plus', 'Star Rating': None, 'Rating Value': '5'}\n",
      "{'Brand': 'Apple', 'Model Family': 'Iphone 14', 'Star Rating': None, 'Rating Value': '4.3538'}\n",
      "{'Brand': 'Apple', 'Model Family': 'Iphone 14 Pro', 'Star Rating': None, 'Rating Value': '4.5893'}\n"
     ]
    }
   ],
   "source": [
    "#\n",
    "# # Cleaning\n",
    "#\n",
    "\n",
    "# Visual checks/ref\n",
    "# Print the extracted phone data details\n",
    "x = 5  # Just to keep the output cleaner in notebook\n",
    "for phone_details in itertools.islice(phone_details_list, x):\n",
    "    print(phone_details)\n",
    "\n",
    "# check/remove unexpected chars/ obv typos\n",
    "unwanted_chars = ['%', '?', '%', '$', \"'\", '#', ';', ',','-']\n",
    "phone_details_list = remove_dodgy_chars(phone_details_list, unwanted_chars)\n",
    "\n",
    "# remove lead/trailing spaces (and doubles+)\n",
    "phone_details_list = clean_phone_details_list(phone_details_list)\n",
    "\n",
    "# flatten phone_details_list strings to enforce consistency\n",
    "phone_details_list = lowercase_phone_details(phone_details_list)\n",
    "\n",
    "# enforce proper/title caps (but also handle hyphens and 's properly)\n",
    "phone_details_list = capitalise_phone_details(phone_details_list)\n",
    "\n",
    "# Remove dups (has to be done last, as above cleaning increases chances of matches)\n",
    "de_dup_keys_list = ['Brand', 'Model Family']\n",
    "phone_details_list = remove_duplicates(phone_details_list, de_dup_keys_list)\n",
    "\n",
    "currency_keys_list = ['Upfront Price','Upfront Pence', 'Monthly Price', 'Monthly Pence']\n",
    "clean_phone_details_list(phone_details_list, currency_keys_list)\n",
    "\n",
    "\n",
    "# Visual checks/ref\n",
    "# Print the extracted phone data details\n",
    "x = 5  # Just to keep the output cleaner in notebook\n",
    "for phone_details in itertools.islice(phone_details_list, x):\n",
    "    print(phone_details)"
   ]
  },
  {
   "cell_type": "code",
   "execution_count": null,
   "metadata": {},
   "outputs": [],
   "source": [
    "#\n",
    "# # Ensure consistency\n",
    "#\n",
    "\n",
    "# Set required fields to numeric values & make more customer friendly (rounding/set places)\n",
    "phone_details_list = convert_to_float(phone_details_list, 'Rating Value', 2)\n"
   ]
  },
  {
   "cell_type": "code",
   "execution_count": 9,
   "metadata": {},
   "outputs": [
    {
     "name": "stdout",
     "output_type": "stream",
     "text": [
      "Exporting data to file on path : ./phone_detailscsv\n",
      "Exporting data to file on path : ./outlier_phone_detailscsv\n"
     ]
    }
   ],
   "source": [
    "#\n",
    "# # (1)Represent extracted data in flat file for onward/persistent ref.\n",
    "#\n",
    "\n",
    "save_data_to_file('phone_details', phone_details_list)\n",
    "save_data_to_file('outlier_phone_details', outlier_phone_details)"
   ]
  },
  {
   "cell_type": "code",
   "execution_count": 10,
   "metadata": {},
   "outputs": [
    {
     "name": "stdout",
     "output_type": "stream",
     "text": [
      "Potential threshold/unexpected data found:\n",
      "Max Rating >5\n",
      "Model Family Description >21\n",
      "+---------+----------------+---------------+----------------+\n",
      "| Brand   |   Model Family | Star Rating   |   Rating Value |\n",
      "|---------+----------------+---------------+----------------|\n",
      "| Doro    |           8100 |               |              0 |\n",
      "| Doro    |           8100 |               |              0 |\n",
      "| Doro    |           8100 |               |              0 |\n",
      "+---------+----------------+---------------+----------------+\n"
     ]
    }
   ],
   "source": [
    "#\n",
    "# # (2)Represent data - Visualise some of caught/potential 'outliers'(hypothetical threshold examples)\n",
    "#\n",
    "\n",
    "table_data = tabulate(outlier_phone_details, headers='keys', tablefmt='psql')\n",
    "if len(table_data)>0:\n",
    "    print(\"Potential threshold/unexpected data found:\\nMax Rating >{}\\nModel Family Description >{}\"\n",
    "                                                                        .format(\n",
    "                                                                                max_rating_value,\n",
    "                                                                                max_model_family_length\n",
    "                                                                                ))\n",
    "    print(table_data)"
   ]
  },
  {
   "cell_type": "code",
   "execution_count": 11,
   "metadata": {},
   "outputs": [
    {
     "data": {
      "image/png": "[encoded data removed]",
      "text/plain": [
       "<Figure size 1000x300 with 1 Axes>"
      ]
     },
     "metadata": {},
     "output_type": "display_data"
    }
   ],
   "source": [
    "#\n",
    "# # (3)Represent data - start to consider/show simple stories within the data\n",
    "#\n",
    "\n",
    "plot_average_rating_by_brand(phone_details_list)\n"
   ]
  },
  {
   "cell_type": "code",
   "execution_count": 12,
   "metadata": {},
   "outputs": [
    {
     "name": "stdout",
     "output_type": "stream",
     "text": [
      "('Samsung', 'Galaxy S23 Ultra', None, '4.4')\n",
      "('Samsung', 'Galaxy S23', None, '5.0')\n",
      "('Samsung', 'Galaxy S23 Plus', None, '5.0')\n",
      "('Apple', 'Iphone 14', None, '4.35')\n",
      "('Apple', 'Iphone 14 Pro', None, '4.59')\n"
     ]
    }
   ],
   "source": [
    "#\n",
    "# # Hypothetical db store + extract (here done only in memory as db not portable)\n",
    "#\n",
    "\n",
    "# Create a database connection\n",
    "conn = sqlite3.connect(\":memory:\")\n",
    "\n",
    "# Call the create_phone_details_table() function to create the phone_details table\n",
    "create_phone_details_table(conn)\n",
    "\n",
    "# Call the insert_phone_details() function to insert the extracted phone details into the phone_details table\n",
    "insert_phone_details(conn, phone_details_list)\n",
    "\n",
    "\n",
    "\n",
    "# Execute a SELECT query on the phone_details table\n",
    "c = conn.cursor()\n",
    "c.execute(\"SELECT brand, model_family, star_rating, rating_value FROM phone_details LIMIT 5\")\n",
    "\n",
    "# Fetch the results of the query and print them out\n",
    "results = c.fetchall()\n",
    "for row in results:\n",
    "    print(row)\n",
    "\n",
    "# Close the database connection\n",
    "conn.close()"
   ]
  }
 ],
 "metadata": {
  "kernelspec": {
   "display_name": "Python 3",
   "language": "python",
   "name": "python3"
  },
  "language_info": {
   "codemirror_mode": {
    "name": "ipython",
    "version": 3
   },
   "file_extension": ".py",
   "mimetype": "text/x-python",
   "name": "python",
   "nbconvert_exporter": "python",
   "pygments_lexer": "ipython3",
   "version": "3.10.3"
  },
  "orig_nbformat": 4,
  "vscode": {
   "interpreter": {
    "hash": "958b822a08aa10494414effc94d6d73addd1ee144d4b81869d635db9a3920043"
   }
  }
 },
 "nbformat": 4,
 "nbformat_minor": 2
}
