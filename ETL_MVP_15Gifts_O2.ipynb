{
 "cells": [
  {
   "cell_type": "code",
   "execution_count": 45,
   "metadata": {},
   "outputs": [
    {
     "name": "stdout",
     "output_type": "stream",
     "text": [
      "Note: you may need to restart the kernel to use updated packages.\n"
     ]
    },
    {
     "name": "stderr",
     "output_type": "stream",
     "text": [
      "WARNING: You are using pip version 22.0.4; however, version 23.0.1 is available.\n",
      "You should consider upgrading via the 'c:\\Users\\Rob.Harrison\\AppData\\Local\\Programs\\Python\\Python310\\python.exe -m pip install --upgrade pip' command.\n"
     ]
    },
    {
     "name": "stdout",
     "output_type": "stream",
     "text": [
      "Note: you may need to restart the kernel to use updated packages.\n"
     ]
    },
    {
     "name": "stderr",
     "output_type": "stream",
     "text": [
      "WARNING: You are using pip version 22.0.4; however, version 23.0.1 is available.\n",
      "You should consider upgrading via the 'c:\\Users\\Rob.Harrison\\AppData\\Local\\Programs\\Python\\Python310\\python.exe -m pip install --upgrade pip' command.\n"
     ]
    },
    {
     "name": "stdout",
     "output_type": "stream",
     "text": [
      "Note: you may need to restart the kernel to use updated packages.\n"
     ]
    },
    {
     "name": "stderr",
     "output_type": "stream",
     "text": [
      "WARNING: You are using pip version 22.0.4; however, version 23.0.1 is available.\n",
      "You should consider upgrading via the 'c:\\Users\\Rob.Harrison\\AppData\\Local\\Programs\\Python\\Python310\\python.exe -m pip install --upgrade pip' command.\n"
     ]
    }
   ],
   "source": [
    "#\n",
    "# # Ensure we have the needed libraries installed\n",
    "# \n",
    "%pip install --quiet requests\n",
    "%pip install --quiet beautifulsoup4\n",
    "%pip install --quiet nbformat"
   ]
  },
  {
   "cell_type": "code",
   "execution_count": 46,
   "metadata": {},
   "outputs": [
    {
     "name": "stdout",
     "output_type": "stream",
     "text": [
      "****************************** ETL functions def file version v0.0.1 ******************************\n",
      "\n"
     ]
    }
   ],
   "source": [
    "#\n",
    "# # Access the ETL function 'library'\n",
    "# \n",
    "%run ETL_func_defs.ipynb"
   ]
  },
  {
   "cell_type": "code",
   "execution_count": 47,
   "metadata": {},
   "outputs": [],
   "source": [
    "#\n",
    "# Core user-defined variables\n",
    "#\n",
    "\n",
    "urlBase = \"https://www.o2.co.uk/shop/phones\"\n",
    "urlSub = \"#sort=content.sorting.featured&page=\"\n",
    "\n",
    "main_content_selector = \".device-info-content\"\n",
    "brand_selector = '[data-qa-device-title] [data-qa-device-brand]'\n",
    "model_family_selector = '[data-qa-device-title] [data-qa-device-modelfamily]'\n",
    "star_rating_selector = \".star-rating__stars\"\n",
    "rating_value_selector = \".device-rating__text [itemprop='ratingValue']\"\n",
    "num_pages = 3\n"
   ]
  },
  {
   "cell_type": "code",
   "execution_count": 48,
   "metadata": {},
   "outputs": [
    {
     "name": "stdout",
     "output_type": "stream",
     "text": [
      "{'Brand': 'Samsung', 'Model Family': 'Galaxy S23 Ultra', 'Star Rating': None, 'Rating Value': '4.2941'}\n",
      "{'Brand': 'Samsung', 'Model Family': 'Galaxy S23', 'Star Rating': None, 'Rating Value': '5'}\n",
      "{'Brand': 'Samsung', 'Model Family': 'Galaxy S23 Plus', 'Star Rating': None, 'Rating Value': '5'}\n",
      "{'Brand': 'Apple', 'Model Family': 'iPhone 14', 'Star Rating': None, 'Rating Value': '4.3472'}\n",
      "{'Brand': 'Apple', 'Model Family': 'iPhone 14 Pro', 'Star Rating': None, 'Rating Value': '4.5901'}\n",
      "{'Brand': 'OPPO', 'Model Family': 'Find N2 Flip', 'Star Rating': None, 'Rating Value': '5'}\n",
      "{'Brand': 'Google', 'Model Family': 'Pixel 7 Pro', 'Star Rating': None, 'Rating Value': '4.7629'}\n",
      "{'Brand': 'Samsung', 'Model Family': 'Galaxy Z Fold4', 'Star Rating': None, 'Rating Value': '4.4524'}\n",
      "{'Brand': 'Apple', 'Model Family': 'iPhone 14 Pro Max', 'Star Rating': None, 'Rating Value': '4.6012'}\n",
      "{'Brand': 'Apple', 'Model Family': 'iPhone 14 Plus', 'Star Rating': None, 'Rating Value': '4.5846'}\n",
      "{'Brand': 'Google', 'Model Family': 'Pixel 7', 'Star Rating': None, 'Rating Value': '4.6709'}\n",
      "{'Brand': 'Apple', 'Model Family': 'iPhone 13', 'Star Rating': None, 'Rating Value': '4.5614'}\n",
      "{'Brand': 'Sony', 'Model Family': 'Xperia 1 IV', 'Star Rating': None, 'Rating Value': '4.2609'}\n",
      "{'Brand': 'Samsung', 'Model Family': 'Galaxy Z Flip4', 'Star Rating': None, 'Rating Value': '4.3543'}\n",
      "{'Brand': 'Apple', 'Model Family': 'iPhone 11', 'Star Rating': None, 'Rating Value': '4.6511'}\n",
      "{'Brand': 'Samsung', 'Model Family': 'Galaxy S22 Ultra', 'Star Rating': None, 'Rating Value': '4.395'}\n",
      "{'Brand': 'Apple', 'Model Family': 'iPhone 12 5G', 'Star Rating': None, 'Rating Value': '4.4874'}\n",
      "{'Brand': 'Samsung', 'Model Family': 'Galaxy S22', 'Star Rating': None, 'Rating Value': '3.9413'}\n",
      "{'Brand': 'Apple', 'Model Family': 'iPhone 13 mini', 'Star Rating': None, 'Rating Value': '4.4868'}\n",
      "{'Brand': 'Samsung', 'Model Family': 'Galaxy S21 FE 5G', 'Star Rating': None, 'Rating Value': '4.4048'}\n",
      "{'Brand': 'Samsung', 'Model Family': 'Galaxy A23 5G', 'Star Rating': None, 'Rating Value': '4.2745'}\n",
      "{'Brand': 'Google', 'Model Family': 'Pixel 6a', 'Star Rating': None, 'Rating Value': '4.5278'}\n",
      "{'Brand': 'Samsung', 'Model Family': 'Galaxy A53 5G', 'Star Rating': None, 'Rating Value': '4.2428'}\n",
      "{'Brand': 'Nothing', 'Model Family': 'Phone 1', 'Star Rating': None, 'Rating Value': '4.5833'}\n",
      "{'Brand': 'OPPO', 'Model Family': 'A57s', 'Star Rating': None, 'Rating Value': '4.2105'}\n",
      "{'Brand': 'Samsung', 'Model Family': 'Galaxy S22 Plus', 'Star Rating': None, 'Rating Value': '4.3148'}\n",
      "{'Brand': 'Apple', 'Model Family': 'iPhone SE 3rd Generation', 'Star Rating': None, 'Rating Value': '4.5357'}\n",
      "{'Brand': 'OPPO', 'Model Family': 'A54 5G', 'Star Rating': None, 'Rating Value': '4.5202'}\n",
      "{'Brand': 'OPPO', 'Model Family': 'Find X5 Lite', 'Star Rating': None, 'Rating Value': '4.4844'}\n",
      "{'Brand': 'OPPO', 'Model Family': 'Find X5 Pro', 'Star Rating': None, 'Rating Value': '4.6104'}\n",
      "{'Brand': 'Samsung', 'Model Family': 'Galaxy A13', 'Star Rating': None, 'Rating Value': '3.9474'}\n",
      "{'Brand': 'Xiaomi', 'Model Family': '12T Pro 5G', 'Star Rating': None, 'Rating Value': '4'}\n",
      "{'Brand': 'Nokia', 'Model Family': 'C21 Plus', 'Star Rating': None, 'Rating Value': '4.1429'}\n",
      "{'Brand': 'OPPO', 'Model Family': 'Find X5', 'Star Rating': None, 'Rating Value': '4.7083'}\n",
      "{'Brand': 'Samsung', 'Model Family': 'Galaxy Z Flip3 5G', 'Star Rating': None, 'Rating Value': '3.8597'}\n",
      "{'Brand': 'Sony', 'Model Family': 'Xperia 5 III', 'Star Rating': None, 'Rating Value': '4.5556'}\n",
      "{'Brand': 'Samsung', 'Model Family': 'Galaxy A13 5G', 'Star Rating': None, 'Rating Value': '3.9'}\n",
      "{'Brand': 'Sony', 'Model Family': 'Xperia 10 IV', 'Star Rating': None, 'Rating Value': '4.1333'}\n",
      "{'Brand': 'Samsung', 'Model Family': 'Galaxy A04s', 'Star Rating': None, 'Rating Value': '4.2105'}\n",
      "{'Brand': 'Google', 'Model Family': 'Pixel 6', 'Star Rating': None, 'Rating Value': '4.4876'}\n",
      "{'Brand': 'Nokia', 'Model Family': 'G11', 'Star Rating': None, 'Rating Value': '4.4545'}\n",
      "{'Brand': 'Xiaomi', 'Model Family': '12 Lite 5G', 'Star Rating': None, 'Rating Value': '4'}\n",
      "{'Brand': 'Google', 'Model Family': 'Pixel 6 Pro', 'Star Rating': None, 'Rating Value': '4.642'}\n",
      "{'Brand': 'OPPO', 'Model Family': 'Reno8 5G', 'Star Rating': None, 'Rating Value': '4.7727'}\n",
      "{'Brand': 'Samsung', 'Model Family': 'Galaxy A52s 5G', 'Star Rating': None, 'Rating Value': '4.502'}\n",
      "{'Brand': 'OPPO', 'Model Family': 'A16s', 'Star Rating': None, 'Rating Value': '4.2817'}\n",
      "{'Brand': 'Sony', 'Model Family': 'Xperia 5 IV', 'Star Rating': None, 'Rating Value': '4.6875'}\n",
      "{'Brand': 'Sony', 'Model Family': 'Xperia 1 III', 'Star Rating': None, 'Rating Value': '4.4444'}\n",
      "{'Brand': 'Samsung', 'Model Family': 'Galaxy A33 5G', 'Star Rating': None, 'Rating Value': '4.2558'}\n",
      "{'Brand': 'OPPO', 'Model Family': 'Reno8 Pro 5G', 'Star Rating': None, 'Rating Value': '4.6471'}\n",
      "{'Brand': 'OPPO', 'Model Family': 'Reno8 Lite 5G', 'Star Rating': None, 'Rating Value': '4.6875'}\n",
      "{'Brand': 'Xiaomi', 'Model Family': 'Redmi Note 11 Pro 5G', 'Star Rating': None, 'Rating Value': '4.3571'}\n",
      "{'Brand': 'Xiaomi', 'Model Family': 'Redmi Note 11', 'Star Rating': None, 'Rating Value': '4.8571'}\n",
      "{'Brand': 'Samsung', 'Model Family': 'Galaxy S20 FE 5G', 'Star Rating': None, 'Rating Value': '4.4066'}\n",
      "{'Brand': 'Samsung', 'Model Family': 'Galaxy S21 5G', 'Star Rating': None, 'Rating Value': '4.2703'}\n",
      "{'Brand': 'Motorola', 'Model Family': 'moto g22', 'Star Rating': None, 'Rating Value': '3.75'}\n",
      "{'Brand': 'Motorola', 'Model Family': 'Moto Edge 20 Pro 5G', 'Star Rating': None, 'Rating Value': '4.4762'}\n",
      "{'Brand': 'OPPO', 'Model Family': 'Find X3 Neo 5G', 'Star Rating': None, 'Rating Value': '4.5455'}\n",
      "{'Brand': 'OPPO', 'Model Family': 'Find X3 Pro 5G', 'Star Rating': None, 'Rating Value': '4.7317'}\n",
      "{'Brand': 'OnePlus', 'Model Family': 'Nord 2 5G', 'Star Rating': None, 'Rating Value': '4.25'}\n",
      "{'Brand': 'Motorola', 'Model Family': 'moto g31', 'Star Rating': None, 'Rating Value': '5'}\n",
      "{'Brand': 'Xiaomi', 'Model Family': 'Redmi 9AT', 'Star Rating': None, 'Rating Value': '3'}\n",
      "{'Brand': 'Doro', 'Model Family': '8100', 'Star Rating': None, 'Rating Value': '0'}\n",
      "{'Brand': 'Samsung', 'Model Family': 'Galaxy S23 Ultra', 'Star Rating': None, 'Rating Value': '4.2941'}\n",
      "{'Brand': 'Samsung', 'Model Family': 'Galaxy S23', 'Star Rating': None, 'Rating Value': '5'}\n",
      "{'Brand': 'Samsung', 'Model Family': 'Galaxy S23 Plus', 'Star Rating': None, 'Rating Value': '5'}\n",
      "{'Brand': 'Apple', 'Model Family': 'iPhone 14', 'Star Rating': None, 'Rating Value': '4.3472'}\n",
      "{'Brand': 'Apple', 'Model Family': 'iPhone 14 Pro', 'Star Rating': None, 'Rating Value': '4.5901'}\n",
      "{'Brand': 'OPPO', 'Model Family': 'Find N2 Flip', 'Star Rating': None, 'Rating Value': '5'}\n",
      "{'Brand': 'Google', 'Model Family': 'Pixel 7 Pro', 'Star Rating': None, 'Rating Value': '4.7629'}\n",
      "{'Brand': 'Samsung', 'Model Family': 'Galaxy Z Fold4', 'Star Rating': None, 'Rating Value': '4.4524'}\n",
      "{'Brand': 'Apple', 'Model Family': 'iPhone 14 Pro Max', 'Star Rating': None, 'Rating Value': '4.6012'}\n",
      "{'Brand': 'Apple', 'Model Family': 'iPhone 14 Plus', 'Star Rating': None, 'Rating Value': '4.5846'}\n",
      "{'Brand': 'Google', 'Model Family': 'Pixel 7', 'Star Rating': None, 'Rating Value': '4.6709'}\n",
      "{'Brand': 'Apple', 'Model Family': 'iPhone 13', 'Star Rating': None, 'Rating Value': '4.5614'}\n",
      "{'Brand': 'Sony', 'Model Family': 'Xperia 1 IV', 'Star Rating': None, 'Rating Value': '4.2609'}\n",
      "{'Brand': 'Samsung', 'Model Family': 'Galaxy Z Flip4', 'Star Rating': None, 'Rating Value': '4.3543'}\n",
      "{'Brand': 'Apple', 'Model Family': 'iPhone 11', 'Star Rating': None, 'Rating Value': '4.6511'}\n",
      "{'Brand': 'Samsung', 'Model Family': 'Galaxy S22 Ultra', 'Star Rating': None, 'Rating Value': '4.395'}\n",
      "{'Brand': 'Apple', 'Model Family': 'iPhone 12 5G', 'Star Rating': None, 'Rating Value': '4.4874'}\n",
      "{'Brand': 'Samsung', 'Model Family': 'Galaxy S22', 'Star Rating': None, 'Rating Value': '3.9413'}\n",
      "{'Brand': 'Apple', 'Model Family': 'iPhone 13 mini', 'Star Rating': None, 'Rating Value': '4.4868'}\n",
      "{'Brand': 'Samsung', 'Model Family': 'Galaxy S21 FE 5G', 'Star Rating': None, 'Rating Value': '4.4048'}\n",
      "{'Brand': 'Samsung', 'Model Family': 'Galaxy A23 5G', 'Star Rating': None, 'Rating Value': '4.2745'}\n",
      "{'Brand': 'Google', 'Model Family': 'Pixel 6a', 'Star Rating': None, 'Rating Value': '4.5278'}\n",
      "{'Brand': 'Samsung', 'Model Family': 'Galaxy A53 5G', 'Star Rating': None, 'Rating Value': '4.2428'}\n",
      "{'Brand': 'Nothing', 'Model Family': 'Phone 1', 'Star Rating': None, 'Rating Value': '4.5833'}\n",
      "{'Brand': 'OPPO', 'Model Family': 'A57s', 'Star Rating': None, 'Rating Value': '4.2105'}\n",
      "{'Brand': 'Samsung', 'Model Family': 'Galaxy S22 Plus', 'Star Rating': None, 'Rating Value': '4.3148'}\n",
      "{'Brand': 'Apple', 'Model Family': 'iPhone SE 3rd Generation', 'Star Rating': None, 'Rating Value': '4.5357'}\n",
      "{'Brand': 'OPPO', 'Model Family': 'A54 5G', 'Star Rating': None, 'Rating Value': '4.5202'}\n",
      "{'Brand': 'OPPO', 'Model Family': 'Find X5 Lite', 'Star Rating': None, 'Rating Value': '4.4844'}\n",
      "{'Brand': 'OPPO', 'Model Family': 'Find X5 Pro', 'Star Rating': None, 'Rating Value': '4.6104'}\n",
      "{'Brand': 'Samsung', 'Model Family': 'Galaxy A13', 'Star Rating': None, 'Rating Value': '3.9474'}\n",
      "{'Brand': 'Xiaomi', 'Model Family': '12T Pro 5G', 'Star Rating': None, 'Rating Value': '4'}\n",
      "{'Brand': 'Nokia', 'Model Family': 'C21 Plus', 'Star Rating': None, 'Rating Value': '4.1429'}\n",
      "{'Brand': 'OPPO', 'Model Family': 'Find X5', 'Star Rating': None, 'Rating Value': '4.7083'}\n",
      "{'Brand': 'Samsung', 'Model Family': 'Galaxy Z Flip3 5G', 'Star Rating': None, 'Rating Value': '3.8597'}\n",
      "{'Brand': 'Sony', 'Model Family': 'Xperia 5 III', 'Star Rating': None, 'Rating Value': '4.5556'}\n",
      "{'Brand': 'Samsung', 'Model Family': 'Galaxy A13 5G', 'Star Rating': None, 'Rating Value': '3.9'}\n",
      "{'Brand': 'Sony', 'Model Family': 'Xperia 10 IV', 'Star Rating': None, 'Rating Value': '4.1333'}\n",
      "{'Brand': 'Samsung', 'Model Family': 'Galaxy A04s', 'Star Rating': None, 'Rating Value': '4.2105'}\n",
      "{'Brand': 'Google', 'Model Family': 'Pixel 6', 'Star Rating': None, 'Rating Value': '4.4876'}\n",
      "{'Brand': 'Nokia', 'Model Family': 'G11', 'Star Rating': None, 'Rating Value': '4.4545'}\n",
      "{'Brand': 'Xiaomi', 'Model Family': '12 Lite 5G', 'Star Rating': None, 'Rating Value': '4'}\n",
      "{'Brand': 'Google', 'Model Family': 'Pixel 6 Pro', 'Star Rating': None, 'Rating Value': '4.642'}\n",
      "{'Brand': 'OPPO', 'Model Family': 'Reno8 5G', 'Star Rating': None, 'Rating Value': '4.7727'}\n",
      "{'Brand': 'Samsung', 'Model Family': 'Galaxy A52s 5G', 'Star Rating': None, 'Rating Value': '4.502'}\n",
      "{'Brand': 'OPPO', 'Model Family': 'A16s', 'Star Rating': None, 'Rating Value': '4.2817'}\n",
      "{'Brand': 'Sony', 'Model Family': 'Xperia 5 IV', 'Star Rating': None, 'Rating Value': '4.6875'}\n",
      "{'Brand': 'Sony', 'Model Family': 'Xperia 1 III', 'Star Rating': None, 'Rating Value': '4.4444'}\n",
      "{'Brand': 'Samsung', 'Model Family': 'Galaxy A33 5G', 'Star Rating': None, 'Rating Value': '4.2558'}\n",
      "{'Brand': 'OPPO', 'Model Family': 'Reno8 Pro 5G', 'Star Rating': None, 'Rating Value': '4.6471'}\n",
      "{'Brand': 'OPPO', 'Model Family': 'Reno8 Lite 5G', 'Star Rating': None, 'Rating Value': '4.6875'}\n",
      "{'Brand': 'Xiaomi', 'Model Family': 'Redmi Note 11 Pro 5G', 'Star Rating': None, 'Rating Value': '4.3571'}\n",
      "{'Brand': 'Xiaomi', 'Model Family': 'Redmi Note 11', 'Star Rating': None, 'Rating Value': '4.8571'}\n",
      "{'Brand': 'Samsung', 'Model Family': 'Galaxy S20 FE 5G', 'Star Rating': None, 'Rating Value': '4.4066'}\n",
      "{'Brand': 'Samsung', 'Model Family': 'Galaxy S21 5G', 'Star Rating': None, 'Rating Value': '4.2703'}\n",
      "{'Brand': 'Motorola', 'Model Family': 'moto g22', 'Star Rating': None, 'Rating Value': '3.75'}\n",
      "{'Brand': 'Motorola', 'Model Family': 'Moto Edge 20 Pro 5G', 'Star Rating': None, 'Rating Value': '4.4762'}\n",
      "{'Brand': 'OPPO', 'Model Family': 'Find X3 Neo 5G', 'Star Rating': None, 'Rating Value': '4.5455'}\n",
      "{'Brand': 'OPPO', 'Model Family': 'Find X3 Pro 5G', 'Star Rating': None, 'Rating Value': '4.7317'}\n",
      "{'Brand': 'OnePlus', 'Model Family': 'Nord 2 5G', 'Star Rating': None, 'Rating Value': '4.25'}\n",
      "{'Brand': 'Motorola', 'Model Family': 'moto g31', 'Star Rating': None, 'Rating Value': '5'}\n",
      "{'Brand': 'Xiaomi', 'Model Family': 'Redmi 9AT', 'Star Rating': None, 'Rating Value': '3'}\n",
      "{'Brand': 'Doro', 'Model Family': '8100', 'Star Rating': None, 'Rating Value': '0'}\n",
      "{'Brand': 'Samsung', 'Model Family': 'Galaxy S23 Ultra', 'Star Rating': None, 'Rating Value': '4.2941'}\n",
      "{'Brand': 'Samsung', 'Model Family': 'Galaxy S23', 'Star Rating': None, 'Rating Value': '5'}\n",
      "{'Brand': 'Samsung', 'Model Family': 'Galaxy S23 Plus', 'Star Rating': None, 'Rating Value': '5'}\n",
      "{'Brand': 'Apple', 'Model Family': 'iPhone 14', 'Star Rating': None, 'Rating Value': '4.3472'}\n",
      "{'Brand': 'Apple', 'Model Family': 'iPhone 14 Pro', 'Star Rating': None, 'Rating Value': '4.5901'}\n",
      "{'Brand': 'OPPO', 'Model Family': 'Find N2 Flip', 'Star Rating': None, 'Rating Value': '5'}\n",
      "{'Brand': 'Google', 'Model Family': 'Pixel 7 Pro', 'Star Rating': None, 'Rating Value': '4.7629'}\n",
      "{'Brand': 'Samsung', 'Model Family': 'Galaxy Z Fold4', 'Star Rating': None, 'Rating Value': '4.4524'}\n",
      "{'Brand': 'Apple', 'Model Family': 'iPhone 14 Pro Max', 'Star Rating': None, 'Rating Value': '4.6012'}\n",
      "{'Brand': 'Apple', 'Model Family': 'iPhone 14 Plus', 'Star Rating': None, 'Rating Value': '4.5846'}\n",
      "{'Brand': 'Google', 'Model Family': 'Pixel 7', 'Star Rating': None, 'Rating Value': '4.6709'}\n",
      "{'Brand': 'Apple', 'Model Family': 'iPhone 13', 'Star Rating': None, 'Rating Value': '4.5614'}\n",
      "{'Brand': 'Sony', 'Model Family': 'Xperia 1 IV', 'Star Rating': None, 'Rating Value': '4.2609'}\n",
      "{'Brand': 'Samsung', 'Model Family': 'Galaxy Z Flip4', 'Star Rating': None, 'Rating Value': '4.3543'}\n",
      "{'Brand': 'Apple', 'Model Family': 'iPhone 11', 'Star Rating': None, 'Rating Value': '4.6511'}\n",
      "{'Brand': 'Samsung', 'Model Family': 'Galaxy S22 Ultra', 'Star Rating': None, 'Rating Value': '4.395'}\n",
      "{'Brand': 'Apple', 'Model Family': 'iPhone 12 5G', 'Star Rating': None, 'Rating Value': '4.4874'}\n",
      "{'Brand': 'Samsung', 'Model Family': 'Galaxy S22', 'Star Rating': None, 'Rating Value': '3.9413'}\n",
      "{'Brand': 'Apple', 'Model Family': 'iPhone 13 mini', 'Star Rating': None, 'Rating Value': '4.4868'}\n",
      "{'Brand': 'Samsung', 'Model Family': 'Galaxy S21 FE 5G', 'Star Rating': None, 'Rating Value': '4.4048'}\n",
      "{'Brand': 'Samsung', 'Model Family': 'Galaxy A23 5G', 'Star Rating': None, 'Rating Value': '4.2745'}\n",
      "{'Brand': 'Google', 'Model Family': 'Pixel 6a', 'Star Rating': None, 'Rating Value': '4.5278'}\n",
      "{'Brand': 'Samsung', 'Model Family': 'Galaxy A53 5G', 'Star Rating': None, 'Rating Value': '4.2428'}\n",
      "{'Brand': 'Nothing', 'Model Family': 'Phone 1', 'Star Rating': None, 'Rating Value': '4.5833'}\n",
      "{'Brand': 'OPPO', 'Model Family': 'A57s', 'Star Rating': None, 'Rating Value': '4.2105'}\n",
      "{'Brand': 'Samsung', 'Model Family': 'Galaxy S22 Plus', 'Star Rating': None, 'Rating Value': '4.3148'}\n",
      "{'Brand': 'Apple', 'Model Family': 'iPhone SE 3rd Generation', 'Star Rating': None, 'Rating Value': '4.5357'}\n",
      "{'Brand': 'OPPO', 'Model Family': 'A54 5G', 'Star Rating': None, 'Rating Value': '4.5202'}\n",
      "{'Brand': 'OPPO', 'Model Family': 'Find X5 Lite', 'Star Rating': None, 'Rating Value': '4.4844'}\n",
      "{'Brand': 'OPPO', 'Model Family': 'Find X5 Pro', 'Star Rating': None, 'Rating Value': '4.6104'}\n",
      "{'Brand': 'Samsung', 'Model Family': 'Galaxy A13', 'Star Rating': None, 'Rating Value': '3.9474'}\n",
      "{'Brand': 'Xiaomi', 'Model Family': '12T Pro 5G', 'Star Rating': None, 'Rating Value': '4'}\n",
      "{'Brand': 'Nokia', 'Model Family': 'C21 Plus', 'Star Rating': None, 'Rating Value': '4.1429'}\n",
      "{'Brand': 'OPPO', 'Model Family': 'Find X5', 'Star Rating': None, 'Rating Value': '4.7083'}\n",
      "{'Brand': 'Samsung', 'Model Family': 'Galaxy Z Flip3 5G', 'Star Rating': None, 'Rating Value': '3.8597'}\n",
      "{'Brand': 'Sony', 'Model Family': 'Xperia 5 III', 'Star Rating': None, 'Rating Value': '4.5556'}\n",
      "{'Brand': 'Samsung', 'Model Family': 'Galaxy A13 5G', 'Star Rating': None, 'Rating Value': '3.9'}\n",
      "{'Brand': 'Sony', 'Model Family': 'Xperia 10 IV', 'Star Rating': None, 'Rating Value': '4.1333'}\n",
      "{'Brand': 'Samsung', 'Model Family': 'Galaxy A04s', 'Star Rating': None, 'Rating Value': '4.2105'}\n",
      "{'Brand': 'Google', 'Model Family': 'Pixel 6', 'Star Rating': None, 'Rating Value': '4.4876'}\n",
      "{'Brand': 'Nokia', 'Model Family': 'G11', 'Star Rating': None, 'Rating Value': '4.4545'}\n",
      "{'Brand': 'Xiaomi', 'Model Family': '12 Lite 5G', 'Star Rating': None, 'Rating Value': '4'}\n",
      "{'Brand': 'Google', 'Model Family': 'Pixel 6 Pro', 'Star Rating': None, 'Rating Value': '4.642'}\n",
      "{'Brand': 'OPPO', 'Model Family': 'Reno8 5G', 'Star Rating': None, 'Rating Value': '4.7727'}\n",
      "{'Brand': 'Samsung', 'Model Family': 'Galaxy A52s 5G', 'Star Rating': None, 'Rating Value': '4.502'}\n",
      "{'Brand': 'OPPO', 'Model Family': 'A16s', 'Star Rating': None, 'Rating Value': '4.2817'}\n",
      "{'Brand': 'Sony', 'Model Family': 'Xperia 5 IV', 'Star Rating': None, 'Rating Value': '4.6875'}\n",
      "{'Brand': 'Sony', 'Model Family': 'Xperia 1 III', 'Star Rating': None, 'Rating Value': '4.4444'}\n",
      "{'Brand': 'Samsung', 'Model Family': 'Galaxy A33 5G', 'Star Rating': None, 'Rating Value': '4.2558'}\n",
      "{'Brand': 'OPPO', 'Model Family': 'Reno8 Pro 5G', 'Star Rating': None, 'Rating Value': '4.6471'}\n",
      "{'Brand': 'OPPO', 'Model Family': 'Reno8 Lite 5G', 'Star Rating': None, 'Rating Value': '4.6875'}\n",
      "{'Brand': 'Xiaomi', 'Model Family': 'Redmi Note 11 Pro 5G', 'Star Rating': None, 'Rating Value': '4.3571'}\n",
      "{'Brand': 'Xiaomi', 'Model Family': 'Redmi Note 11', 'Star Rating': None, 'Rating Value': '4.8571'}\n",
      "{'Brand': 'Samsung', 'Model Family': 'Galaxy S20 FE 5G', 'Star Rating': None, 'Rating Value': '4.4066'}\n",
      "{'Brand': 'Samsung', 'Model Family': 'Galaxy S21 5G', 'Star Rating': None, 'Rating Value': '4.2703'}\n",
      "{'Brand': 'Motorola', 'Model Family': 'moto g22', 'Star Rating': None, 'Rating Value': '3.75'}\n",
      "{'Brand': 'Motorola', 'Model Family': 'Moto Edge 20 Pro 5G', 'Star Rating': None, 'Rating Value': '4.4762'}\n",
      "{'Brand': 'OPPO', 'Model Family': 'Find X3 Neo 5G', 'Star Rating': None, 'Rating Value': '4.5455'}\n",
      "{'Brand': 'OPPO', 'Model Family': 'Find X3 Pro 5G', 'Star Rating': None, 'Rating Value': '4.7317'}\n",
      "{'Brand': 'OnePlus', 'Model Family': 'Nord 2 5G', 'Star Rating': None, 'Rating Value': '4.25'}\n",
      "{'Brand': 'Motorola', 'Model Family': 'moto g31', 'Star Rating': None, 'Rating Value': '5'}\n",
      "{'Brand': 'Xiaomi', 'Model Family': 'Redmi 9AT', 'Star Rating': None, 'Rating Value': '3'}\n",
      "{'Brand': 'Doro', 'Model Family': '8100', 'Star Rating': None, 'Rating Value': '0'}\n"
     ]
    }
   ],
   "source": [
    "#\n",
    "# # Extract the page data\n",
    "#\n",
    "\n",
    "phone_details_list = extract_phone_details(\n",
    "    urlBase+urlSub,\n",
    "    main_content_selector,\n",
    "    brand_selector,\n",
    "    model_family_selector,\n",
    "    star_rating_selector,\n",
    "    rating_value_selector,\n",
    "    num_pages\n",
    ")\n",
    "\n",
    "\n",
    "\n",
    "# Visual checks/ref\n",
    "# Print the extracted phone data details\n",
    "x = 5  # Just to keep the output cleaner in notebook\n",
    "for phone_details in itertools.islice(phone_details_list, x):\n",
    "    print(phone_details)"
   ]
  },
  {
   "cell_type": "code",
   "execution_count": 55,
   "metadata": {},
   "outputs": [],
   "source": [
    "#\n",
    "# # (1)Pipeline reporting - Identify outliers\n",
    "#\n",
    "\n",
    "# set of chars we don't expect/want to see in data coming through pipeline\n",
    "unwanted_chars = ['%', '?', '%', '$', \"'\", '#', ';', ',','-']\n",
    "max_rating_value=5\n",
    "max_model_family_length=21\n",
    "\n",
    "outlier_phone_details = identify_outliers(phone_details_list, max_rating_value, max_model_family_length,special_chars=unwanted_chars)\n",
    "\n",
    "# output shown later"
   ]
  },
  {
   "cell_type": "code",
   "execution_count": 50,
   "metadata": {},
   "outputs": [
    {
     "name": "stdout",
     "output_type": "stream",
     "text": [
      "Average execution time: 3.4345 seconds\n"
     ]
    }
   ],
   "source": [
    "#\n",
    "# # (2)Pipeline reporting - Monitor/optimise process\n",
    "#\n",
    "import timeit # specific to this, so not in function defs\n",
    "\n",
    "# measure the scrape/func execution time\n",
    "times = timeit.repeat(time_extract_phone_details, number=1, repeat=10)\n",
    "\n",
    "# calculate the avg time taken\n",
    "avg_time = sum(times) / len(times)\n",
    "print(f\"Average execution time: {avg_time:.4f} seconds\")"
   ]
  },
  {
   "cell_type": "code",
   "execution_count": 51,
   "metadata": {},
   "outputs": [
    {
     "name": "stdout",
     "output_type": "stream",
     "text": [
      "Exporting data to file on path : ./phone_detailscsv\n",
      "Exporting data to file on path : ./outlier_phone_detailscsv\n"
     ]
    }
   ],
   "source": [
    "#\n",
    "# # (1)Represent extracted data in flat file for onward/persistent ref.\n",
    "#\n",
    "\n",
    "save_data_to_file('phone_details', phone_details_list)\n",
    "save_data_to_file('outlier_phone_details', outlier_phone_details)"
   ]
  },
  {
   "cell_type": "code",
   "execution_count": 59,
   "metadata": {},
   "outputs": [
    {
     "name": "stdout",
     "output_type": "stream",
     "text": [
      "Potential threshold/unexpected data found:\n",
      "Max Rating >5\n",
      "Model Group Descriptions >21\n",
      "+---------+--------------------------+---------------+----------------+\n",
      "| Brand   | Model Family             | Star Rating   |   Rating Value |\n",
      "|---------+--------------------------+---------------+----------------|\n",
      "| Apple   | iPhone SE 3rd Generation |               |         4.5357 |\n",
      "| Apple   | iPhone SE 3rd Generation |               |         4.5357 |\n",
      "| Apple   | iPhone SE 3rd Generation |               |         4.5357 |\n",
      "+---------+--------------------------+---------------+----------------+\n"
     ]
    }
   ],
   "source": [
    "#\n",
    "# # (2)Represent data - Visualise some of caught/potential 'outliers'(hypothetical threshold examples)\n",
    "#\n",
    "\n",
    "table_data = tabulate(outlier_phone_details, headers='keys', tablefmt='psql')\n",
    "if len(table_data)>0:\n",
    "    print(\"Potential threshold/unexpected data found:\\nMax Rating >{}\\nModel Family Description >{}\"\n",
    "                                                                        .format(\n",
    "                                                                                max_rating_value,\n",
    "                                                                                max_model_family_length\n",
    "                                                                                ))\n",
    "    print(table_data)"
   ]
  },
  {
   "cell_type": "code",
   "execution_count": 52,
   "metadata": {},
   "outputs": [
    {
     "data": {
      "image/png": "[encoded data removed]",
      "text/plain": [
       "<Figure size 1000x300 with 1 Axes>"
      ]
     },
     "metadata": {},
     "output_type": "display_data"
    }
   ],
   "source": [
    "#\n",
    "# # (3)Represent data - start to consider/show simple stories within the data\n",
    "#\n",
    "\n",
    "plot_average_rating_by_brand(phone_details_list)\n"
   ]
  },
  {
   "cell_type": "code",
   "execution_count": 61,
   "metadata": {},
   "outputs": [
    {
     "name": "stdout",
     "output_type": "stream",
     "text": [
      "('Samsung', 'Galaxy S23 Ultra', None, '4.2941')\n",
      "('Samsung', 'Galaxy S23', None, '5')\n",
      "('Samsung', 'Galaxy S23 Plus', None, '5')\n",
      "('Apple', 'iPhone 14', None, '4.3472')\n",
      "('Apple', 'iPhone 14 Pro', None, '4.5901')\n"
     ]
    }
   ],
   "source": [
    "#\n",
    "# # Hypothetical db store + extract (here done only in memory as db not portable)\n",
    "#\n",
    "\n",
    "# Create a database connection\n",
    "conn = sqlite3.connect(\":memory:\")\n",
    "\n",
    "# Call the create_phone_details_table() function to create the phone_details table\n",
    "create_phone_details_table(conn)\n",
    "\n",
    "# Call the insert_phone_details() function to insert the extracted phone details into the phone_details table\n",
    "insert_phone_details(conn, phone_details_list)\n",
    "\n",
    "\n",
    "\n",
    "# Execute a SELECT query on the phone_details table\n",
    "c = conn.cursor()\n",
    "c.execute(\"SELECT brand, model_family, star_rating, rating_value FROM phone_details LIMIT 5\")\n",
    "\n",
    "# Fetch the results of the query and print them out\n",
    "results = c.fetchall()\n",
    "for row in results:\n",
    "    print(row)\n",
    "\n",
    "# Close the database connection\n",
    "conn.close()"
   ]
  }
 ],
 "metadata": {
  "kernelspec": {
   "display_name": "Python 3",
   "language": "python",
   "name": "python3"
  },
  "language_info": {
   "codemirror_mode": {
    "name": "ipython",
    "version": 3
   },
   "file_extension": ".py",
   "mimetype": "text/x-python",
   "name": "python",
   "nbconvert_exporter": "python",
   "pygments_lexer": "ipython3",
   "version": "3.10.3"
  },
  "orig_nbformat": 4,
  "vscode": {
   "interpreter": {
    "hash": "958b822a08aa10494414effc94d6d73addd1ee144d4b81869d635db9a3920043"
   }
  }
 },
 "nbformat": 4,
 "nbformat_minor": 2
}
